{
 "cells": [
  {
   "cell_type": "markdown",
   "metadata": {},
   "source": [
    "## Operadores - Actividad"
   ]
  },
  {
   "cell_type": "markdown",
   "metadata": {},
   "source": [
    "1) Pedir al usuario dos números y mostrar por pantalla la suma de ellos."
   ]
  },
  {
   "cell_type": "code",
   "execution_count": 2,
   "metadata": {},
   "outputs": [
    {
     "name": "stdout",
     "output_type": "stream",
     "text": [
      "3\n"
     ]
    }
   ],
   "source": [
    "a = int (input(\"Ingrese un numero\"))\n",
    "b = int (input(\"Ingrese otro numero\"))\n",
    "\n",
    "suma = a + b\n",
    "\n",
    "print(suma)"
   ]
  },
  {
   "cell_type": "markdown",
   "metadata": {},
   "source": [
    "2) Calcular el perímetro y área de un rectángulo dada su base y su altura (el usuario debe introducir por teclado los dos valores)."
   ]
  },
  {
   "cell_type": "code",
   "execution_count": 3,
   "metadata": {},
   "outputs": [
    {
     "name": "stdout",
     "output_type": "stream",
     "text": [
      "El perimetro del rectangulo ingresado es: 16\n"
     ]
    }
   ],
   "source": [
    "altura = int (input(\"Ingrese altura del rectangulo\"))\n",
    "base = int (input(\"Ingrese la base del rectangulo\"))\n",
    "\n",
    "perimetro = base * altura\n",
    "\n",
    "print(f\"El perimetro del rectangulo ingresado es: {perimetro}\")"
   ]
  },
  {
   "cell_type": "markdown",
   "metadata": {},
   "source": [
    "3) Calcular el resultado de elevar un número entero a otro número entero (por ejemplo, 5 elevado a 3 = 5^3 = 5*5*5)."
   ]
  },
  {
   "cell_type": "code",
   "execution_count": 3,
   "metadata": {},
   "outputs": [
    {
     "name": "stdout",
     "output_type": "stream",
     "text": [
      "La potencia es: 8\n"
     ]
    }
   ],
   "source": [
    "a = int (input(\"Ingrese un numero\"))\n",
    "b = int (input(\"Ingrese otro numero\"))\n",
    "\n",
    "potencia = a ** b\n",
    "\n",
    "print(f\"La potencia es: {potencia}\")"
   ]
  },
  {
   "cell_type": "markdown",
   "metadata": {},
   "source": [
    "4) Escribe un programa que convierta grados Celsius a grados Fahrenheit utilizando la fórmula: **F = (C * 9/5) + 32**"
   ]
  },
  {
   "cell_type": "code",
   "execution_count": 4,
   "metadata": {},
   "outputs": [
    {
     "name": "stdout",
     "output_type": "stream",
     "text": [
      "30.0 en grados fahrenheit es: 86.0\n"
     ]
    }
   ],
   "source": [
    "celsius = float (input(\"Ingrese grados en celcius\"))\n",
    "gradosF = (celsius*9/5) + 32\n",
    "\n",
    "print(f\"{celsius} en grados fahrenheit es: {gradosF}\")"
   ]
  },
  {
   "cell_type": "markdown",
   "metadata": {},
   "source": [
    "5) Pedir al usuario su edad y mostrar por pantalla si es mayor de edad o no. (Mayor de edad >= 18)"
   ]
  },
  {
   "cell_type": "code",
   "execution_count": 7,
   "metadata": {},
   "outputs": [
    {
     "name": "stdout",
     "output_type": "stream",
     "text": [
      "Es mayor de edad? False\n"
     ]
    }
   ],
   "source": [
    "edad = int (input(\"Ingrese su edad\"))\n",
    "\n",
    "print(f\"Es mayor de edad? {edad >= 18}\")"
   ]
  },
  {
   "cell_type": "markdown",
   "metadata": {},
   "source": [
    "6) Comprobar si el numero ingresado por el usuario es par o impar."
   ]
  },
  {
   "cell_type": "code",
   "execution_count": 10,
   "metadata": {},
   "outputs": [
    {
     "name": "stdout",
     "output_type": "stream",
     "text": [
      "El numero ingresado es par? False\n"
     ]
    }
   ],
   "source": [
    "a = int (input(\"Ingrese un numero\"))\n",
    "\n",
    "print(f\"El numero ingresado es par? {a%2 == 0}\")"
   ]
  },
  {
   "cell_type": "markdown",
   "metadata": {},
   "source": [
    "7) Pedir al usuario que ingrese su dirección email y luego mostrar un mensaje indicando si la dirección es válida o no. Una dirección se considerará válida si contiene el símbolo \"@\"."
   ]
  },
  {
   "cell_type": "code",
   "execution_count": 12,
   "metadata": {},
   "outputs": [
    {
     "name": "stdout",
     "output_type": "stream",
     "text": [
      "El email ingresado es valido? True\n"
     ]
    }
   ],
   "source": [
    "email = str(input(\"Ingrese su email\"))\n",
    "\n",
    "print(f\"El email ingresado es valido? {'@' in email}\")"
   ]
  },
  {
   "cell_type": "markdown",
   "metadata": {},
   "source": [
    "8) Dado un número de dos cifras, diseñe un algoritmo que permita obtener el número invertido. Ejemplo, si se introduce 23 que muestre 32. (Recordar que las cadenas pueden tratarse como listas de caracteres)."
   ]
  },
  {
   "cell_type": "code",
   "execution_count": 22,
   "metadata": {},
   "outputs": [
    {
     "name": "stdout",
     "output_type": "stream",
     "text": [
      "2 1\n"
     ]
    }
   ],
   "source": [
    "var = \"12\"\n",
    "\n",
    "print(var[1],var[0])"
   ]
  },
  {
   "cell_type": "markdown",
   "metadata": {},
   "source": [
    "9) Crea un programa que pida al usuario dos números y muestre True si ambos son mayores que 10."
   ]
  },
  {
   "cell_type": "code",
   "execution_count": 27,
   "metadata": {},
   "outputs": [
    {
     "name": "stdout",
     "output_type": "stream",
     "text": [
      "Ambos numeros son mayores que 10? False\n"
     ]
    }
   ],
   "source": [
    "num1 = int (input(\"Ingrese un numero\"))\n",
    "num2 = int (input(\"Ingrese otro numero\"))\n",
    "\n",
    "print(f\"Ambos numeros son mayores que 10? {num1>10 and num2>10}\")"
   ]
  },
  {
   "cell_type": "markdown",
   "metadata": {},
   "source": [
    "10) Escribe un programa que verifique si un número ingresado por el usuario es divisible por 3 y por 5."
   ]
  },
  {
   "cell_type": "code",
   "execution_count": 72,
   "metadata": {},
   "outputs": [
    {
     "name": "stdout",
     "output_type": "stream",
     "text": [
      "El numero ingresado es divisible por 3 y por 5? True\n"
     ]
    }
   ],
   "source": [
    "num1 = int (input(\"Ingrese un numero\"))\n",
    "\n",
    "print(f\"El numero ingresado es divisible por 3 y por 5? {num1%3==0 and num1%5==0}\")"
   ]
  },
  {
   "cell_type": "markdown",
   "metadata": {},
   "source": [
    "11) Utilizando la información del punto 5, preguntar al usuario si posee carnet de conducir, luego verificar si puede conducir un automóvil."
   ]
  },
  {
   "cell_type": "code",
   "execution_count": 38,
   "metadata": {},
   "outputs": [
    {
     "name": "stdout",
     "output_type": "stream",
     "text": [
      "Puede conducir el automovil? False\n"
     ]
    }
   ],
   "source": [
    "edad = int (input(\"Ingrese su edad\"))\n",
    "\n",
    "carnet = input(\"Posee carnet de conducir?\")\n",
    "\n",
    "print(f\"Puede conducir el automovil? {edad >= 18 and carnet=='si'}\")"
   ]
  },
  {
   "cell_type": "markdown",
   "metadata": {},
   "source": [
    "12) Pide al usuario un número y verifica si es positivo y no es mayor que 100."
   ]
  },
  {
   "cell_type": "code",
   "execution_count": 41,
   "metadata": {},
   "outputs": [
    {
     "name": "stdout",
     "output_type": "stream",
     "text": [
      "El numero ingresado esta entre 0 y 100? True\n"
     ]
    }
   ],
   "source": [
    "num1 = int (input(\"Ingrese un numero\"))\n",
    "\n",
    "print(f\"El numero ingresado esta entre 0 y 100? {0<num1<100}\")"
   ]
  },
  {
   "cell_type": "markdown",
   "metadata": {},
   "source": [
    "13) Crear un programa que valide si un número ingresado por el usuario es par y mayor que 20."
   ]
  },
  {
   "cell_type": "code",
   "execution_count": 48,
   "metadata": {},
   "outputs": [
    {
     "name": "stdout",
     "output_type": "stream",
     "text": [
      "El numero ingresado esta entre 0 y 100? False\n"
     ]
    }
   ],
   "source": [
    "num1 = int (input(\"Ingrese un numero\"))\n",
    "\n",
    "print(f\"El numero ingresado esta entre 0 y 100? {num1%2==0 and num1>20}\")"
   ]
  },
  {
   "cell_type": "markdown",
   "metadata": {},
   "source": [
    "14) Dada la variable **numero = 5**, realizar la operación necesaria para que número sea igual a 8. Luego imprimir en pantalla el nuevo valor de número y realizar una nueva operación para que el valor de número sea igual a 4 y mostrar en pantalla el nuevo valor."
   ]
  },
  {
   "cell_type": "code",
   "execution_count": 49,
   "metadata": {},
   "outputs": [
    {
     "name": "stdout",
     "output_type": "stream",
     "text": [
      "5\n",
      "8\n",
      "4\n"
     ]
    }
   ],
   "source": [
    "numero = 5\n",
    "\n",
    "print(numero)\n",
    "\n",
    "numero = numero + 3\n",
    "\n",
    "print(numero)\n",
    "\n",
    "numero = numero - 4\n",
    "\n",
    "print(numero)"
   ]
  },
  {
   "cell_type": "markdown",
   "metadata": {},
   "source": [
    "15) Dadas las variables altura = \"10\" y base = 5, calcular el área de un triángulo y mostrar el resultado en pantalla. ¿Por qué el resultado es un error? ¿Cómo lo corregirías?\n",
    "\n",
    "El resultado es un error, porque la variable altura es un string, por lo tanto para solucionarlo hay que transformar la variable en int\n"
   ]
  },
  {
   "cell_type": "code",
   "execution_count": 58,
   "metadata": {},
   "outputs": [
    {
     "name": "stdout",
     "output_type": "stream",
     "text": [
      "El area es= 25 \n"
     ]
    }
   ],
   "source": [
    "altura = \"10\"\n",
    "base = 5 \n",
    "\n",
    "area = int(base*int(altura)/2)\n",
    "\n",
    "print(f\"El area es= {area} \")"
   ]
  },
  {
   "cell_type": "markdown",
   "metadata": {},
   "source": [
    "16) Crea un programa que calcule el promedio de tres calificaciones ingresadas por el usuario, y comprobar si el alumno aprobó o no (aprueba con nota mayor a 6)."
   ]
  },
  {
   "cell_type": "code",
   "execution_count": 63,
   "metadata": {},
   "outputs": [
    {
     "name": "stdout",
     "output_type": "stream",
     "text": [
      "El alumno aprobo? False\n"
     ]
    }
   ],
   "source": [
    "calificacion1 = int (input(\"Ingrese la nota del primer parcial\"))\n",
    "calificacion2 = int (input(\"Ingrese la nota del segundo parcial\"))\n",
    "calificacion3 = int (input(\"Ingrese la nota del tercer parcial\"))\n",
    "\n",
    "promedio = (calificacion1 + calificacion2 + calificacion3)/3\n",
    "\n",
    "print(f\"El alumno aprobo? {promedio>=6}\")"
   ]
  },
  {
   "cell_type": "markdown",
   "metadata": {},
   "source": [
    "17) Pide al usuario su edad y calcula cuántos días, horas y minutos ha vivido aproximadamente (asumiendo 365 días por año)."
   ]
  },
  {
   "cell_type": "code",
   "execution_count": 66,
   "metadata": {},
   "outputs": [
    {
     "name": "stdout",
     "output_type": "stream",
     "text": [
      "Has vivido: 365 dias 8760 horas y 525600 minutos\n"
     ]
    }
   ],
   "source": [
    "edad = int (input(\"Ingrese su edad\"))\n",
    "\n",
    "dias = edad*365\n",
    "\n",
    "horas = dias*24\n",
    "\n",
    "minutos = horas*60\n",
    "\n",
    "print(f\"Has vivido: {dias} dias {horas} horas y {minutos} minutos\")"
   ]
  },
  {
   "cell_type": "markdown",
   "metadata": {},
   "source": [
    "18) Crea un programa que verifique si un número ingresado por el usuario es múltiplo de 4 y de 6 al mismo tiempo."
   ]
  },
  {
   "cell_type": "code",
   "execution_count": 71,
   "metadata": {},
   "outputs": [
    {
     "name": "stdout",
     "output_type": "stream",
     "text": [
      "El numero ingresado es multiplo de 4 y de 6? True\n"
     ]
    }
   ],
   "source": [
    "num1 = int (input(\"Ingrese un numero\"))\n",
    "\n",
    "print(f\"El numero ingresado es multiplo de 4 y de 6? {num1%4==0 and num1%6==0}\")"
   ]
  }
 ],
 "metadata": {
  "kernelspec": {
   "display_name": "Python 3",
   "language": "python",
   "name": "python3"
  },
  "language_info": {
   "codemirror_mode": {
    "name": "ipython",
    "version": 3
   },
   "file_extension": ".py",
   "mimetype": "text/x-python",
   "name": "python",
   "nbconvert_exporter": "python",
   "pygments_lexer": "ipython3",
   "version": "3.11.6"
  }
 },
 "nbformat": 4,
 "nbformat_minor": 2
}
